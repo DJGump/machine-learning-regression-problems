{
 "cells": [
  {
   "cell_type": "markdown",
   "metadata": {},
   "source": [
    "# Rubrics for grading checkpoint 1\n",
    "1. Correct answer (30 points).\n",
    "2. \n",
    "    * Correct answer (10 points).\n",
    "    * Correct answer (10 points).\n",
    "    * Correct answer (10 points).\n",
    "    * Correct answer (10 points).\n",
    "3. Reasonable model (30 points)."
   ]
  }
 ],
 "metadata": {
  "kernelspec": {
   "display_name": "Python 3",
   "language": "python",
   "name": "python3"
  },
  "language_info": {
   "codemirror_mode": {
    "name": "ipython",
    "version": 3
   },
   "file_extension": ".py",
   "mimetype": "text/x-python",
   "name": "python",
   "nbconvert_exporter": "python",
   "pygments_lexer": "ipython3",
   "version": "3.6.5"
  }
 },
 "nbformat": 4,
 "nbformat_minor": 2
}
