{
 "cells": [
  {
   "cell_type": "markdown",
   "metadata": {},
   "source": [
    "# Rubrics for grading checkpoint 2\n",
    "* Check the student closed the database connection after executing the query (10 points).\n",
    "* Data Exploration and Cleaning (30 points):\n",
    "    * Basic analysis of the dataset (10 points).\n",
    "    * Analysis of the missing values (10 points).\n",
    "    * Making distinction between numerical and non-numerical features (10 points).\n",
    "* Check the student made data analysis feature selection (30 points).\n",
    "    * Selecting a subset of the features (10 points).\n",
    "    * Justifying the selection based on data analysis using correlation matrices or suitable charts (20 points).\n",
    "* Check the student build a linear regression model (30 points).\n",
    "    * Including constant to the model (5 points).\n",
    "    * Running the model using sklearn or statsmodels (25 points)."
   ]
  }
 ],
 "metadata": {
  "kernelspec": {
   "display_name": "Python 3",
   "language": "python",
   "name": "python3"
  },
  "language_info": {
   "codemirror_mode": {
    "name": "ipython",
    "version": 3
   },
   "file_extension": ".py",
   "mimetype": "text/x-python",
   "name": "python",
   "nbconvert_exporter": "python",
   "pygments_lexer": "ipython3",
   "version": "3.6.5"
  }
 },
 "nbformat": 4,
 "nbformat_minor": 2
}
