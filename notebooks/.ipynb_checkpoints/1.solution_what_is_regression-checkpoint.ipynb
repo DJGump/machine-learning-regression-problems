{
 "cells": [
  {
   "cell_type": "markdown",
   "metadata": {},
   "source": [
    "1. You have World Bank data on financial, economic and social indicators for several countries. You want to measure the factors that affect the level of development in these countries. To this end, you decide to use per capita income as a proxy for the development level, which is defined as the national income divided by the population. You want to use other features in your dataset to predict per capita income. Is this task a classification or a regression task? Why? **Answer**: This is a regression task. Because the target variable - per capita income, is a continuous variable.\n",
    "2. Which of the following arguments are false and why?\n",
    "  * OLS is a special type of regression model. **Answer**: False. OLS is not a type of model but an optimization algorithm.\n",
    "  * Regression models become useless if they don’t meet the assumptions of linear regression. **Answer**: False. Even if a model doesn’t meet some assumptions, there are ways to fix this up.\n",
    "  * Estimation and prediction are the same thing in the context of linear regression models. **Answer**: False. Estimation refers to the process of determining the coefficients of the features in the training phase. Prediction is to determine the value of the outcome variable using a previously unseen feature value.\n",
    "  * Linear regression model is only one kind of regression models. Regression problems can also be solved with other kind of models like Support Vector Machines or Random Forests. **Answer**: True.\n",
    "3. Assume that your project manager wants you to discover which free services your company offers make your customers to buy more of your paid services. Formulate this task as a regression problem and write down the potential outcome and features that you’d like to work on. **Answer**: This is an open ended question. Student should discuss his/her answer with his/her mentor."
   ]
  }
 ],
 "metadata": {
  "kernelspec": {
   "display_name": "Python 3",
   "language": "python",
   "name": "python3"
  },
  "language_info": {
   "codemirror_mode": {
    "name": "ipython",
    "version": 3
   },
   "file_extension": ".py",
   "mimetype": "text/x-python",
   "name": "python",
   "nbconvert_exporter": "python",
   "pygments_lexer": "ipython3",
   "version": "3.6.5"
  }
 },
 "nbformat": 4,
 "nbformat_minor": 2
}
