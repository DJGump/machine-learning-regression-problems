{
 "cells": [
  {
   "cell_type": "markdown",
   "metadata": {},
   "source": [
    "# Challenge: Predicting house prices\n",
    "\n",
    "In this module, we learned how to approach and solve regression problems using linear regression models. Throughout the module, you worked on a house price dataset from Kaggle. In this challenge, you keep working on this dataset.\n",
    "\n",
    "Housing market is one of the most crucial parts of the economy for every country. People tend to save their monies primarily by buying houses. In this respect, predicting the prices in the housing market is a very central topic in economic and financial circles.\n",
    "\n",
    "The house price dataset from Kagle involves several features of the houses along with their sale prices at the time they are sold. So far, in this module, you built and implemented some models using this dataset. In this challenge, you are required to improve your model with respect to its prediction performance. To complete this challenge, submit a Jupyter notebook containing your solutions to the following tasks. Moreover, you can also submit a kernel to the Kaggle containing your solutions.\n",
    "\n",
    "* Load the houseprices data from Thinkful's database.\n",
    "* Make data cleaning, exploratory data analysis and feature engineering. You can use your previous work in this module. But make sure that your work is satisfactory.\n",
    "* Now, split your data into train and test sets where 20% of the data resides in the test set.\n",
    "* Build several linear regression models including Lasso, Ridge or ElasticNet and train them in the training set. Use **k-fold cross-validation** to select the best hyperparameters if your models include one!\n",
    "* Evaluate your best model on the test set.\n",
    "* So far, you only used the features in the dataset. However, house prices can be affected by many factors like the economic activity and the interest rates at the time they are sold. So, try to find some useful factors that are not included in the dataset. Integrate these factor to your model and assess the prediction performance of your model. Discuss the implications of adding these external variables into your model."
   ]
  }
 ],
 "metadata": {
  "kernelspec": {
   "display_name": "Python 3",
   "language": "python",
   "name": "python3"
  },
  "language_info": {
   "codemirror_mode": {
    "name": "ipython",
    "version": 3
   },
   "file_extension": ".py",
   "mimetype": "text/x-python",
   "name": "python",
   "nbconvert_exporter": "python",
   "pygments_lexer": "ipython3",
   "version": "3.6.5"
  }
 },
 "nbformat": 4,
 "nbformat_minor": 2
}
