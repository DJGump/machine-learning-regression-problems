{
 "cells": [
  {
   "cell_type": "markdown",
   "metadata": {},
   "source": [
    "# Understanding the relationship between features and target\n",
    "\n",
    "The strength of multiple linear regression lies in its ability to provide straightforward and interpretable solutions that not only predict future outcomes, but also provide insight into the underlying processes that create these outcomes. One of the reasons why linear regression models are so commonplace is the fact that these models can shed light on the relationships in the data by just interpreting the estimated coefficients.\n",
    "\n",
    "In this checkpoint, we learn to answer questions like:\n",
    "\n",
    "* How much an increase in an explanatory variable does affect the explained variable?\n",
    "* How can we single out the effect of a specific variable by isolating the affects of other variables?\n",
    "\n",
    "The answers to these questions bear a lot of business value. Think about a company that likes to measure the performance of its advertising expenditures. Is radio advertisements are more effective in attracting new customers than the Facebook ads? For a thousand dollars spent on TV ads, how many products does the company sell? And, how can we distinguish whether the new customers are the result of the TV ads or the Google ads?"
   ]
  },
  {
   "cell_type": "markdown",
   "metadata": {},
   "source": [
    "## Linear regression as a controlled experiment\n"
   ]
  },
  {
   "cell_type": "markdown",
   "metadata": {},
   "source": [
    "## Interpreting the dummy variables"
   ]
  },
  {
   "cell_type": "markdown",
   "metadata": {},
   "source": [
    "## Interpreting the continuous variables"
   ]
  },
  {
   "cell_type": "markdown",
   "metadata": {},
   "source": [
    "## Interpreting the interaction terms"
   ]
  }
 ],
 "metadata": {
  "kernelspec": {
   "display_name": "Python 3",
   "language": "python",
   "name": "python3"
  },
  "language_info": {
   "codemirror_mode": {
    "name": "ipython",
    "version": 3
   },
   "file_extension": ".py",
   "mimetype": "text/x-python",
   "name": "python",
   "nbconvert_exporter": "python",
   "pygments_lexer": "ipython3",
   "version": "3.6.5"
  }
 },
 "nbformat": 4,
 "nbformat_minor": 2
}
